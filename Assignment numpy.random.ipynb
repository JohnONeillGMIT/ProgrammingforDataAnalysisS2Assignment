{
 "cells": [
  {
   "cell_type": "markdown",
   "metadata": {},
   "source": [
    "# The numpy.random package"
   ]
  },
  {
   "cell_type": "markdown",
   "metadata": {
    "collapsed": true
   },
   "source": [
    "### What do I need to do?"
   ]
  },
  {
   "cell_type": "markdown",
   "metadata": {},
   "source": [
    "###### required to create a Jupyter [5] notebook explaining the use of the package, including\n",
    "detailed explanations of at least five of the distributions provided for in the package.\n",
    "There are four distinct tasks to be carried out in your Jupyter notebook.\n",
    "1. Explain the overall purpose of the package.\n",
    "2. Explain the use of the “Simple random data” and “Permutations” functions.\n",
    "3. Explain the use and purpose of at least five “Distributions” functions.\n",
    "4. Explain the use of seeds in generating pseudorandom numbers"
   ]
  },
  {
   "cell_type": "markdown",
   "metadata": {},
   "source": [
    "https://docs.scipy.org/doc/  First Reference\n",
    "\n",
    "what is numpy.random\n",
    "http://www.numpy.org/\n",
    "\n",
    "https://docs.scipy.org/doc/numpy/user/quickstart.html "
   ]
  },
  {
   "cell_type": "markdown",
   "metadata": {},
   "source": [
    "## Simple random data\n"
   ]
  },
  {
   "cell_type": "code",
   "execution_count": null,
   "metadata": {
    "collapsed": true
   },
   "outputs": [],
   "source": [
    "Simple random data\n",
    "\n",
    "\n",
    "rand(d0, d1, …, dn)\n",
    "Random values in a given shape.\n",
    "randn(d0, d1, …, dn)\n",
    "Return a sample (or samples) from the “standard normal” distribution.\n",
    "randint(low[, high, size, dtype])\n",
    "Return random integers from low (inclusive) to high (exclusive).\n",
    "random_integers(low[, high, size])\n",
    "Random integers of type np.int between low and high, inclusive.\n",
    "random_sample([size])\n",
    "Return random floats in the half-open interval [0.0, 1.0).\n",
    "random([size])\n",
    "Return random floats in the half-open interval [0.0, 1.0).\n",
    "ranf([size])\n",
    "Return random floats in the half-open interval [0.0, 1.0).\n",
    "sample([size])\n",
    "Return random floats in the half-open interval [0.0, 1.0).\n",
    "choice(a[, size, replace, p])\n",
    "Generates a random sample from a given 1-D array\n",
    "bytes(length)\n",
    "Return random bytes.\n",
    "                                                \n",
    "                                                \n",
    "                                                https://docs.scipy.org/doc/numpy/reference/routines.random.html"
   ]
  },
  {
   "cell_type": "markdown",
   "metadata": {},
   "source": [
    "## Permutations"
   ]
  },
  {
   "cell_type": "code",
   "execution_count": null,
   "metadata": {
    "collapsed": true
   },
   "outputs": [],
   "source": [
    "Permutations\n",
    "\n",
    "\n",
    "shuffle(x)\n",
    "Modify a sequence in-place by shuffling its contents.\n",
    "permutation(x)\n",
    "Randomly permute a sequence, or return a permuted range.  https://docs.scipy.org/doc/numpy/reference/routines.random.html\n"
   ]
  },
  {
   "cell_type": "code",
   "execution_count": null,
   "metadata": {
    "collapsed": true
   },
   "outputs": [],
   "source": []
  }
 ],
 "metadata": {
  "kernelspec": {
   "display_name": "Python 3",
   "language": "python",
   "name": "python3"
  },
  "language_info": {
   "codemirror_mode": {
    "name": "ipython",
    "version": 3
   },
   "file_extension": ".py",
   "mimetype": "text/x-python",
   "name": "python",
   "nbconvert_exporter": "python",
   "pygments_lexer": "ipython3",
   "version": "3.6.3"
  }
 },
 "nbformat": 4,
 "nbformat_minor": 2
}
