{
 "cells": [
  {
   "cell_type": "markdown",
   "metadata": {},
   "source": [
    "# The numpy.random package"
   ]
  },
  {
   "cell_type": "markdown",
   "metadata": {
    "collapsed": true
   },
   "source": [
    "### What do I need to do?"
   ]
  },
  {
   "cell_type": "markdown",
   "metadata": {},
   "source": [
    "###### required to create a Jupyter [5] notebook explaining the use of the package, including\n",
    "detailed explanations of at least five of the distributions provided for in the package.\n",
    "There are four distinct tasks to be carried out in your Jupyter notebook.\n",
    "1. Explain the overall purpose of the package.\n",
    "2. Explain the use of the “Simple random data” and “Permutations” functions.\n",
    "3. Explain the use and purpose of at least five “Distributions” functions.\n",
    "4. Explain the use of seeds in generating pseudorandom numbers"
   ]
  },
  {
   "cell_type": "markdown",
   "metadata": {},
   "source": [
    "https://docs.scipy.org/doc/  First Reference\n",
    "\n",
    "what is numpy.random\n",
    "http://www.numpy.org/\n",
    "\n",
    "https://docs.scipy.org/doc/numpy/user/quickstart.html "
   ]
  },
  {
   "cell_type": "markdown",
   "metadata": {},
   "source": [
    "## Simple random data\n"
   ]
  },
  {
   "cell_type": "code",
   "execution_count": null,
   "metadata": {
    "collapsed": true
   },
   "outputs": [],
   "source": [
    "Simple random data\n",
    "\n",
    "\n",
    "rand(d0, d1, …, dn)\n",
    "Random values in a given shape.\n",
    "randn(d0, d1, …, dn)\n",
    "Return a sample (or samples) from the “standard normal” distribution.\n",
    "randint(low[, high, size, dtype])\n",
    "Return random integers from low (inclusive) to high (exclusive).\n",
    "random_integers(low[, high, size])\n",
    "Random integers of type np.int between low and high, inclusive.\n",
    "random_sample([size])\n",
    "Return random floats in the half-open interval [0.0, 1.0).\n",
    "random([size])\n",
    "Return random floats in the half-open interval [0.0, 1.0).\n",
    "ranf([size])\n",
    "Return random floats in the half-open interval [0.0, 1.0).\n",
    "sample([size])\n",
    "Return random floats in the half-open interval [0.0, 1.0).\n",
    "choice(a[, size, replace, p])\n",
    "Generates a random sample from a given 1-D array\n",
    "bytes(length)\n",
    "Return random bytes.\n",
    "                                                \n",
    "                                                \n",
    "                                                https://docs.scipy.org/doc/numpy/reference/routines.random.html"
   ]
  },
  {
   "cell_type": "markdown",
   "metadata": {},
   "source": [
    "## Permutations"
   ]
  },
  {
   "cell_type": "code",
   "execution_count": null,
   "metadata": {
    "collapsed": true
   },
   "outputs": [],
   "source": [
    "Permutations\n",
    "\n",
    "\n",
    "shuffle(x)\n",
    "Modify a sequence in-place by shuffling its contents.\n",
    "permutation(x)\n",
    "Randomly permute a sequence, or return a permuted range.  https://docs.scipy.org/doc/numpy/reference/routines.random.html\n"
   ]
  },
  {
   "cell_type": "code",
   "execution_count": 1,
   "metadata": {
    "collapsed": true
   },
   "outputs": [],
   "source": [
    "##What is numpy first of all\n",
    "\n"
   ]
  },
  {
   "cell_type": "markdown",
   "metadata": {
    "collapsed": true
   },
   "source": [
    "### Seed"
   ]
  },
  {
   "cell_type": "markdown",
   "metadata": {},
   "source": [
    "##### The numpy random functionality is important in that in order to create a simulation you need to be able to create a set of values to work with. the random submodule \" uses a particular algorithm, called the Mersenne Twister, to generate pseudorandom numbers\".\n",
    "\n",
    "\"The seed value is used to make the random number predictable.When the value is reset, the same numbers will appear every time. If we do not assign the seed, NumPy automatically selects a random seed value based on the system's random number generator device or on the clock:\" https://www.packtpub.com/mapt/book/big_data_and_business_intelligence/9781785285110/2/ch02lvl1sec16/numpy-random-numbers\n",
    "\n"
   ]
  },
  {
   "cell_type": "code",
   "execution_count": 6,
   "metadata": {},
   "outputs": [],
   "source": [
    "import numpy as np\n",
    "np.random.seed(20)\n"
   ]
  },
  {
   "cell_type": "code",
   "execution_count": 7,
   "metadata": {},
   "outputs": [
    {
     "data": {
      "text/plain": [
       "array([ 0.5881308 ,  0.89771373,  0.89153073,  0.81583748,  0.03588959])"
      ]
     },
     "execution_count": 7,
     "metadata": {},
     "output_type": "execute_result"
    }
   ],
   "source": [
    "np.random.rand(5)"
   ]
  },
  {
   "cell_type": "code",
   "execution_count": 8,
   "metadata": {},
   "outputs": [
    {
     "data": {
      "text/plain": [
       "array([ 0.69175758,  0.37868094,  0.51851095,  0.65795147,  0.19385022])"
      ]
     },
     "execution_count": 8,
     "metadata": {},
     "output_type": "execute_result"
    }
   ],
   "source": [
    "np.random.rand(5)"
   ]
  },
  {
   "cell_type": "code",
   "execution_count": 9,
   "metadata": {},
   "outputs": [],
   "source": [
    "np.random.seed(20)    # reset seed number"
   ]
  },
  {
   "cell_type": "code",
   "execution_count": 10,
   "metadata": {},
   "outputs": [
    {
     "data": {
      "text/plain": [
       "array([ 0.5881308 ,  0.89771373,  0.89153073,  0.81583748,  0.03588959])"
      ]
     },
     "execution_count": 10,
     "metadata": {},
     "output_type": "execute_result"
    }
   ],
   "source": [
    "np.random.rand(5)"
   ]
  },
  {
   "cell_type": "markdown",
   "metadata": {},
   "source": [
    "#### When you set the seed number, the random number generator is \"locked\" in that resetting the seed reverts back to pulling the same random number to begin"
   ]
  },
  {
   "cell_type": "markdown",
   "metadata": {},
   "source": [
    "#### Numpy is one of main data analysis libraries Python . Others available include Pandas, Matplotlib, PyMongo, and scikit-learn. It is used for Scientific computing in Python and has a number of charactaristics. \n",
    "\n",
    "\"A powerful N-dimensional array object\n",
    "\n",
    "Sophisticated (broadcasting) functions for performing array computations\n",
    "\n",
    "Tools for integrating C/C++ and Fortran code\n",
    "\n",
    "Useful linear algebra operations, Fourier transformations, and random number capabilities\n",
    "\n",
    "Besides this, it can also be used as an efficient multidimensional container of generic data. Arbitrary data types can be defined and integrated with a wide variety of databases.\"https://www.packtpub.com/mapt/book/big_data_and_business_intelligence/9781785285110/1/ch01lvl1sec10/python-libraries-in-data-analysis\n",
    "\n"
   ]
  },
  {
   "cell_type": "code",
   "execution_count": null,
   "metadata": {
    "collapsed": true
   },
   "outputs": [],
   "source": []
  }
 ],
 "metadata": {
  "kernelspec": {
   "display_name": "Python 3",
   "language": "python",
   "name": "python3"
  },
  "language_info": {
   "codemirror_mode": {
    "name": "ipython",
    "version": 3
   },
   "file_extension": ".py",
   "mimetype": "text/x-python",
   "name": "python",
   "nbconvert_exporter": "python",
   "pygments_lexer": "ipython3",
   "version": "3.6.3"
  }
 },
 "nbformat": 4,
 "nbformat_minor": 2
}
